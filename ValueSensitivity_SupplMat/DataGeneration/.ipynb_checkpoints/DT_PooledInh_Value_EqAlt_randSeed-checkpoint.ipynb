{
 "cells": [
  {
   "cell_type": "code",
   "execution_count": 1,
   "metadata": {
    "collapsed": true
   },
   "outputs": [],
   "source": [
    "import ipyparallel as ipp\n",
    "clients = ipp.Client()"
   ]
  },
  {
   "cell_type": "code",
   "execution_count": 2,
   "metadata": {
    "collapsed": false
   },
   "outputs": [
    {
     "data": {
      "text/plain": [
       "[0, 1, 2, 3]"
      ]
     },
     "execution_count": 2,
     "metadata": {},
     "output_type": "execute_result"
    }
   ],
   "source": [
    "clients.ids"
   ]
  },
  {
   "cell_type": "code",
   "execution_count": 3,
   "metadata": {
    "collapsed": true
   },
   "outputs": [],
   "source": [
    "dview = clients.direct_view()"
   ]
  },
  {
   "cell_type": "code",
   "execution_count": 4,
   "metadata": {
    "collapsed": false
   },
   "outputs": [
    {
     "name": "stdout",
     "output_type": "stream",
     "text": [
      "importing numpy on engine(s)\n",
      "importing exp,sqrt,log from math on engine(s)\n",
      "importing numpy.random on engine(s)\n"
     ]
    }
   ],
   "source": [
    "with dview.sync_imports():\n",
    "    import numpy as np\n",
    "    from math import exp,sqrt,log\n",
    "    import numpy.random\n",
    "%px np = numpy\n",
    "%px rand = numpy.random"
   ]
  },
  {
   "cell_type": "code",
   "execution_count": 14,
   "metadata": {
    "collapsed": false
   },
   "outputs": [
    {
     "data": {
      "text/plain": [
       "<AsyncResult: _push>"
      ]
     },
     "execution_count": 14,
     "metadata": {},
     "output_type": "execute_result"
    }
   ],
   "source": [
    "z = 0.5 #threshold 0.1\n",
    "sigma = 0.1 #noise strength 0.01\n",
    "q = 0.1 # frequency of integration\n",
    "beta = 2 #2.013 # inhibition strength\n",
    "r = 2 # r = ratio of excitation/inhibition strengths\n",
    "k = 0.8 # leak excitatory unit\n",
    "kinh = 0.8 # leak inhibitory unit\n",
    "w_exc = 3 # excitation strength inhibitory unit\n",
    "g1 = 10 # gain excitation function\n",
    "g2 = 10 # gain inhibition function\n",
    "b1 = 0.5 # midpoint excitation function\n",
    "b2 = 0.5 # midpoint inhibition function\n",
    "vmax = 1\n",
    "#vm\n",
    "\n",
    "\n",
    "## The choice of delv determines which curve in Fig S1 is computed (and which data file is produced below)\n",
    "## choose either 2 (green curve \\Delta_d=2), 0 (red curve Delta_d=0), or -2 (blue curve \\rho_d=2)\n",
    "delv = -2\n",
    "\n",
    "\n",
    "\n",
    "if delv ==0:\n",
    "    chooseAlt = 'EqualAlt' #'EqualAlt' or 'UnequalAlt'\n",
    "elif delv>0:\n",
    "    chooseAlt = 'UnequalAltDiff' #'EqualAlt' or 'UnequalAlt'\n",
    "else:\n",
    "    chooseAlt = 'UnequalAltRatio' #'EqualAlt' or 'UnequalAlt'\n",
    "\n",
    "chooseModel = 'Pooled' \n",
    "chooseCrit = 'Abs'\n",
    "\n",
    "\n",
    "dview.push(dict(chooseCrit=chooseCrit))\n",
    "\n",
    "dview.push(dict(z=z, sigma=sigma, q=q, beta=beta, r=r, k=k, kinh=kinh, w_exc=w_exc, g1=g1, g2=g2, \n",
    "                b1=b1, b2=b2, vmax=vmax, delv=delv))"
   ]
  },
  {
   "cell_type": "code",
   "execution_count": 15,
   "metadata": {
    "collapsed": true
   },
   "outputs": [],
   "source": [
    "def Sim_DecisionTime(trials,randSeed):\n",
    "    \n",
    "    rand.seed(randSeed)\n",
    "    \n",
    "    ##############################################################################################\n",
    "    # Runge_Kutta 4th-order\n",
    "    ##############################################################################################\n",
    "    def rk4(F, t, y, ht, dfct):\n",
    "        K0 = ht*F(t,y,dfct)\n",
    "        K1 = ht*F(t + ht/2.0, y + K0/2.0,dfct)\n",
    "        K2 = ht*F(t + ht/2.0, y + K1/2.0,dfct)\n",
    "        K3 = ht*F(t + ht, y + K2,dfct)\n",
    "        return (K0 + 2.0*K1 + 2.0*K2 + K3)/6.0\n",
    "\n",
    "    #########################################################################################\n",
    "    # Predictor-corrector integration routine: Heun for stochastic differential equations\n",
    "    #########################################################################################\n",
    "    # time t\n",
    "    # time step ht\n",
    "    # number of equations (=dimensionality) n\n",
    "    # random numbers xi\n",
    "    # deterministic and stochastic contributons Fdet and Frand\n",
    "    def Heun(Fdet, Frand, t, y, ht, dfct):\n",
    "        fd1 = np.zeros(3)\n",
    "        fd2 = np.zeros(3)\n",
    "        fr = np.zeros(3)\n",
    "        yt = np.zeros(3)\n",
    "        fd1 = Fdet(t,y,dfct)\n",
    "        fr = Frand()\n",
    "        yt = y + ht*fd1 + fr*sqrt(ht)\n",
    "        fd2 = Fdet(t+ht,yt,dfct)\n",
    "        ht2 = ht/2.0\n",
    "        return ht2*(fd1+fd2) + fr*sqrt(ht)\n",
    "    \n",
    "    #activation function\n",
    "    def actfct(z,g,b):\n",
    "        return 1/(1+exp(-g*(z-b)))\n",
    "\n",
    "    #differential equations motivations\n",
    "    #determnistic part\n",
    "    def Fdet(t,y,dfct):\n",
    "        Fdet = np.zeros(3)\n",
    "        Fdet[0] = -k*y[0] + beta*r*actfct(y[0],g1,b1) - beta*actfct(y[2],g2,b2) + q*dfct[0]/vmax\n",
    "        Fdet[1] = -k*y[1] + beta*r*actfct(y[1],g1,b1) - beta*actfct(y[2],g2,b2) + q*dfct[1]/vmax\n",
    "        Fdet[2] = -kinh*y[2] + w_exc*(actfct(y[0],g1,b1) + actfct(y[1],g1,b1))\n",
    "        return Fdet\n",
    "\n",
    "    # stochastic part of RHS   \n",
    "    def Frand():\n",
    "        Frand = np.zeros(3)\n",
    "        xRand0 = rand.normal(0,1)\n",
    "        xRand1 = rand.normal(0,1)\n",
    "        Frand[0] = sigma*xRand0\n",
    "        Frand[1] = sigma*xRand1\n",
    "        Frand[2] = 0\n",
    "        return Frand\n",
    "    \n",
    "    \n",
    "    if delv >= 0:\n",
    "        v1 = vm + delv/2.0\n",
    "        v2 = vm - delv/2.0\n",
    "    else:\n",
    "        v_ratio = 2.0 #4.0/3.0\n",
    "        v1 = 2*v_ratio*vm/(1+v_ratio)\n",
    "        v2 = 2*vm/(1+v_ratio)\n",
    "    \n",
    "    tmax = 10.0\n",
    "    ht_const = 0.005\n",
    "    \n",
    "    t0 = 0.0\n",
    "    #sINIT = 0.001\n",
    "    y00 = np.zeros(trials) #rand.uniform(0, sINIT, trials)\n",
    "    y01 = np.zeros(trials) #rand.uniform(0, sINIT, trials)\n",
    "    y02 = np.zeros(trials) #rand.uniform(0, sINIT, trials)\n",
    "    #y0 = np.array([0.0, 0.0]) #initial condition\n",
    "    \n",
    "    #sDRIFT = 0.05 #standard deviation \n",
    "    #DRIFTmin1 = v1/2\n",
    "    #DRIFTmin2 = v2/2\n",
    "    \n",
    "    Tnd = 0.0\n",
    "    #Tnd_min = 0.1\n",
    "    #Tnd_max = 0.3\n",
    "    \n",
    "    decout = []\n",
    "    \n",
    "    for nn in range(trials):\n",
    "        t = t0  #start time\n",
    "        y = np.array([y00[nn], y01[nn], y02[nn]])\n",
    "\n",
    "        #v1sample = rand.normal(v1, sDRIFT)\n",
    "        #v1r = max(v1sample, DRIFTmin1)\n",
    "        #v1r = min(v1r, vmax)\n",
    "        #v2sample = rand.normal(v2, sDRIFT)\n",
    "        #v2r = max(v2sample, DRIFTmin2)\n",
    "        #v2r = min(v2r, vmax)\n",
    "        #dfct = np.array([v1r, v2r])\n",
    "        \n",
    "        #y = np.array([0.0, 0.0])  #initial conditions\n",
    "        dfct = np.array([v1, v2])\n",
    "        ht = 0.005  #time step\n",
    "        \n",
    "        if chooseCrit == 'Diff':\n",
    "            while abs(y[0]-y[1]) < z and t < tmax-Tnd:\n",
    "                y = y + Heun(Fdet,Frand,t,y,ht,dfct)\n",
    "                for ii in range(len(y)):\n",
    "                    y[ii] = max(0, y[ii])\n",
    "                t = t + ht\n",
    "            if y[0]-y[1] >= z:\n",
    "                decout.append(np.array([1, t+Tnd]))\n",
    "            elif y[0]-y[1] <= -z:\n",
    "                decout.append(np.array([0, t+Tnd]))\n",
    "            else:\n",
    "                decout.append(np.array([100, t+Tnd]))\n",
    "        else:        \n",
    "            while y[0] < z and y[1] < z and t <= tmax-Tnd:\n",
    "                y = y + Heun(Fdet,Frand,t,y,ht,dfct)\n",
    "                for ii in range(len(y)):\n",
    "                    y[ii] = max(0, y[ii])\n",
    "                t = t + ht\n",
    "            if t <= tmax:\n",
    "                if y[0] > y[1]:\n",
    "                    decout.append(np.array([1, t+Tnd]))\n",
    "                elif y[1] > y[0]:\n",
    "                    decout.append(np.array([0, t+Tnd]))\n",
    "            else:\n",
    "                decout.append(np.array([100, t+Tnd]))\n",
    "        \n",
    "        \n",
    "    return decout"
   ]
  },
  {
   "cell_type": "code",
   "execution_count": 16,
   "metadata": {
    "collapsed": false
   },
   "outputs": [
    {
     "name": "stdout",
     "output_type": "stream",
     "text": [
      "elapsed time = 563.7360105768312 seconds\n"
     ]
    }
   ],
   "source": [
    "import timeit\n",
    "time_start = timeit.default_timer()\n",
    "nr_engines = len(clients.ids)\n",
    "\n",
    "randSeedList = [(jj+1)*1928374 for jj in range(nr_engines)]\n",
    "\n",
    "nr_trials_tot = 10000 #always use multiple of nr_engines\n",
    "nr_trials_per_engine = int(nr_trials_tot/nr_engines)\n",
    "\n",
    "v_range = 18 #18\n",
    "v_incr = 0.5 #0.5\n",
    "EDTlist = []\n",
    "EDTlist_TP = []\n",
    "EDTlist_TPandFN = []\n",
    "vlist = []\n",
    "ERlist = []\n",
    "UNlist = []\n",
    "for kk in range(v_range+1):\n",
    "    #EDT = 0\n",
    "    #EDT_TP = 0\n",
    "    vm = 1 + v_incr*(kk)\n",
    "    dview.push(dict(vm = vm))\n",
    "    results = dview.map_sync(Sim_DecisionTime, [nr_trials_per_engine]*nr_engines, randSeedList)\n",
    "    decoutALL = []\n",
    "    for kk in range(nr_engines):\n",
    "        decoutALL += results[kk]\n",
    "    \n",
    "    EDT = np.mean(np.asarray(decoutALL)[:,1])\n",
    "    EDTlist.append(EDT)\n",
    "    vlist.append(vm)\n",
    "    \n",
    "    Acc = np.asarray(decoutALL)[:,0] \n",
    "    ReactT = np.asarray(decoutALL)[:,1]\n",
    "    ReactT_TP = [] # RTs for 'correct' choices \n",
    "    ReactT_FN = [] # RTs for 'incorrect' choices \n",
    "    ReactT_UN = [] # RTs for 'undecided' choices \n",
    "\n",
    "    # inefficient list expansion used here\n",
    "    for i in range(nr_trials_tot ):\n",
    "        if Acc[i] == 1:\n",
    "            ReactT_TP.append(ReactT[i])\n",
    "        elif Acc[i] == 0:\n",
    "            ReactT_FN.append(ReactT[i])\n",
    "        else:\n",
    "            ReactT_UN.append(ReactT[i])\n",
    "            \n",
    "    EDT_TP = np.mean(np.asarray(ReactT_TP))\n",
    "    EDT_TPandFN = np.mean(np.asarray(ReactT_TP+ReactT_FN))\n",
    "    EDTlist_TP.append(EDT_TP)  \n",
    "    EDTlist_TPandFN.append(EDT_TPandFN)  \n",
    "    \n",
    "    #ERlist.append(len(ReactT_FN)/len(ReactT))\n",
    "    try:\n",
    "        ERlist.append(len(ReactT_FN)/(len(ReactT_TP)+len(ReactT_FN)))\n",
    "        UNlist.append(len(ReactT_UN)/len(ReactT))\n",
    "    except ZeroDivisionError:\n",
    "        print(vm)\n",
    "    \n",
    "time_stop = timeit.default_timer()\n",
    "print('elapsed time =',time_stop - time_start,'seconds')"
   ]
  },
  {
   "cell_type": "code",
   "execution_count": 17,
   "metadata": {
    "collapsed": true
   },
   "outputs": [],
   "source": [
    "with open('Data2018_DT_ER_V_'+str(chooseModel)+str(chooseAlt)+str(chooseCrit)+'B_randSeed_50k.csv', 'w') as output:\n",
    "    for kk in range(len(vlist)):\n",
    "        output.write(str(vlist[kk]) + \",\" + str(EDTlist_TPandFN[kk]) + \",\" + str(EDTlist_TP[kk]) + \",\"\n",
    "                     + str(ERlist[kk])  + \",\" + str(UNlist[kk]) + \"\\n\")"
   ]
  },
  {
   "cell_type": "code",
   "execution_count": null,
   "metadata": {
    "collapsed": true
   },
   "outputs": [],
   "source": []
  }
 ],
 "metadata": {
  "kernelspec": {
   "display_name": "Python 3",
   "language": "python",
   "name": "python3"
  },
  "language_info": {
   "codemirror_mode": {
    "name": "ipython",
    "version": 3
   },
   "file_extension": ".py",
   "mimetype": "text/x-python",
   "name": "python",
   "nbconvert_exporter": "python",
   "pygments_lexer": "ipython3",
   "version": "3.5.1"
  },
  "toc": {
   "base_numbering": 1,
   "nav_menu": {},
   "number_sections": true,
   "sideBar": true,
   "skip_h1_title": false,
   "title_cell": "Table of Contents",
   "title_sidebar": "Contents",
   "toc_cell": false,
   "toc_position": {},
   "toc_section_display": true,
   "toc_window_display": false
  }
 },
 "nbformat": 4,
 "nbformat_minor": 1
}
