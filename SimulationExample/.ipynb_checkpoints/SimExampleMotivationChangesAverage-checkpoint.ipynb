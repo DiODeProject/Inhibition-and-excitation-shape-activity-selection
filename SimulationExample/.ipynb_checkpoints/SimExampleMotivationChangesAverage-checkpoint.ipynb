{
 "cells": [
  {
   "cell_type": "markdown",
   "metadata": {},
   "source": [
    "## This notebook may be used to reproduce generate data for Figure 6 in the main paper. (The figure is plotted in another notebook:  `SimExampleFig2Fig4Fig6.ipynb`)\n",
    "\n",
    "### Parameter values that need to be changed to derive the different figures are mentioned in comments as appropriate. Note that nonlinear and linear versions of the interneuronal inhibition model can be chosen."
   ]
  },
  {
   "cell_type": "code",
   "execution_count": 3,
   "metadata": {
    "collapsed": false
   },
   "outputs": [],
   "source": [
    "import ipyparallel as ipp\n",
    "clients = ipp.Client()"
   ]
  },
  {
   "cell_type": "code",
   "execution_count": 4,
   "metadata": {
    "collapsed": false
   },
   "outputs": [
    {
     "data": {
      "text/plain": [
       "[0, 1, 2, 3]"
      ]
     },
     "execution_count": 4,
     "metadata": {},
     "output_type": "execute_result"
    }
   ],
   "source": [
    "clients.ids"
   ]
  },
  {
   "cell_type": "code",
   "execution_count": 5,
   "metadata": {
    "collapsed": true
   },
   "outputs": [],
   "source": [
    "dview = clients.direct_view()"
   ]
  },
  {
   "cell_type": "code",
   "execution_count": 6,
   "metadata": {
    "collapsed": false
   },
   "outputs": [
    {
     "name": "stdout",
     "output_type": "stream",
     "text": [
      "importing numpy on engine(s)\n",
      "importing exp,sqrt,log from math on engine(s)\n",
      "importing numpy.random on engine(s)\n"
     ]
    }
   ],
   "source": [
    "with dview.sync_imports():\n",
    "    import numpy as np\n",
    "    from math import exp,sqrt,log\n",
    "    import numpy.random\n",
    "%px np = numpy\n",
    "%px rand = numpy.random"
   ]
  },
  {
   "cell_type": "code",
   "execution_count": 7,
   "metadata": {
    "collapsed": false
   },
   "outputs": [],
   "source": [
    "def Sim_Anim_Beh(trials,randSeed,rin):\n",
    "    \n",
    "    rand.seed(randSeed)\n",
    "    \n",
    "    ##############################################################################################\n",
    "    # Runge_Kutta 4th-order\n",
    "    ##############################################################################################\n",
    "    def rk4(F,t,y,ht):\n",
    "        K0 = ht*F(t,y,dfct)\n",
    "        K1 = ht*F(t + ht/2.0, y + K0/2.0,dfct)\n",
    "        K2 = ht*F(t + ht/2.0, y + K1/2.0,dfct)\n",
    "        K3 = ht*F(t + ht, y + K2,dfct)\n",
    "        return (K0 + 2.0*K1 + 2.0*K2 + K3)/6.0\n",
    "\n",
    "    ####################################################\n",
    "    # Predictor-corrector integration routine: Heun for stochastic differential equations\n",
    "    ####################################################\n",
    "    # time t\n",
    "    # time step ht\n",
    "    # number of equations (=dimensionality) n\n",
    "    # random numbers xi\n",
    "    # deterministic and stochastic contributons Fdet and Frand\n",
    "    def Heun(Fdet, Frand,t,y,ht):\n",
    "        fd1 = np.zeros(3)\n",
    "        fd2 = np.zeros(3)\n",
    "        fr = np.zeros(3)\n",
    "        yt = np.zeros(3)\n",
    "        fd1 = Fdet(t,y,dfct)\n",
    "        fr = Frand()\n",
    "        yt = y + ht*fd1 + fr*sqrt(ht)\n",
    "        fd2 = Fdet(t+ht,yt,dfct)\n",
    "        ht2 = ht/2.0\n",
    "        return ht2*(fd1+fd2) + fr*sqrt(ht)\n",
    "    \n",
    "    #activation function\n",
    "    def actfct(z,g,b):\n",
    "        return 1/(1+exp(-g*(z-b)))\n",
    "\n",
    "    #differential equations motivations\n",
    "    #determnistic part\n",
    "    \n",
    "    \n",
    "    #nonlinear model\n",
    "    #use this model for Figs 2A-F and Figs 4B and 4C (and comment linear model below)\n",
    "    def Fdet(t,y,dfct):\n",
    "        Fdet = np.zeros(3)\n",
    "        Fdet[0] = -k*y[0] + beta*r*actfct(y[0],g1,b1) - beta*actfct(y[2],g2,b2) + q*dfct[0]\n",
    "        Fdet[1] = -k*y[1] + beta*r*actfct(y[1],g1,b1) - beta*actfct(y[2],g2,b2) + q*dfct[1]\n",
    "        Fdet[2] = -kinh*y[2] + w_exc*(actfct(y[0],g1,b1) + actfct(y[1],g1,b1))\n",
    "        return Fdet\n",
    "    \n",
    "    '''  \n",
    "    #linear model\n",
    "    # use this model for Figs 4E and F (and comment nonlinear model above)\n",
    "    def Fdet(t,y,dfct):\n",
    "        Fdet = np.zeros(3)\n",
    "        Fdet[0] = (r*beta*g1/4-k)*y[0] - beta*g2/4*y[2] + q*dfct[0] + phi\n",
    "        Fdet[1] = (r*beta*g1/4-k)*y[1] - beta*g2/4*y[2] + q*dfct[1] + phi\n",
    "        Fdet[2] = -kinh*y[2] + w_exc*(1 - g1*b1/2 + g1/4*(y[0] + y[1]))\n",
    "        return Fdet\n",
    "    '''\n",
    "    \n",
    "    def FrandDet():\n",
    "        FrandDet = np.zeros(3)\n",
    "        return FrandDet\n",
    "    \n",
    "    \n",
    "    \n",
    "    # stochastic part of RHS   \n",
    "    def Frand():\n",
    "        Frand = np.zeros(3)\n",
    "        xRand0 = rand.normal(0,1)\n",
    "        xRand1 = rand.normal(0,1)\n",
    "        Frand[0] = sigma*xRand0\n",
    "        Frand[1] = sigma*xRand1\n",
    "        Frand[2] = 0\n",
    "        return Frand\n",
    "    \n",
    "    # model parameters\n",
    "    k = 0.8 # leak excitatory unit\n",
    "    kinh = 0.8 # leak inhibitory unit\n",
    "    w_exc = 3 # excitation strength inhibitory unit\n",
    "    q = 0.1 # frequency of integration\n",
    "    g1 = 10 # gain excitation function\n",
    "    g2 = 10 # gain inhibition function\n",
    "    b1 = 0.5 # midpoint excitation function\n",
    "    b2 = 0.5 # midpoint inhibition function\n",
    "    beta = 3 #3 # inhibition strength\n",
    "    r = rin\n",
    "    \n",
    "    #phi for linear model\n",
    "    phi = 0.5*beta*(r*(1 - g1*b1/2) - (1 - g2*b2/2))\n",
    "    \n",
    "    # geometric distribution for bout times\n",
    "    # probability of interruption\n",
    "    # calculation of maximum terminal bout time 'bout_max_99' including 99 percent of all values\n",
    "    lam_interrupt = 0.05\n",
    "    bout_max_99 = int(log(0.01)/log(1-lam_interrupt)) + 1\n",
    "    \n",
    "    eps_offset = 1e-9\n",
    "    decay = 0.15\n",
    "    \n",
    "    ## for Fig2 (nonlinear model) choose:\n",
    "    d01 = 7.5\n",
    "    ## for Fig 4B (nonlinear model) choose:\n",
    "    #d01 = 8.0\n",
    "    ## for Fig 4C (nonlinear model), 4E (linear model) choose:\n",
    "    #d01 = 8.1\n",
    "    ## for Fig 4F (linear model) choose:\n",
    "    #d01 = 8.35\n",
    "    \n",
    "    d02 = np.sqrt(2*7.5*7.5-d01**2) \n",
    "    #dfct_start = 7.5\n",
    "    t = 0.0  #start time\n",
    "    tend = 200  #terminal time \n",
    "    y = np.array([0.0, 0.0, 0.0])  #initial conditions\n",
    "    dfct = np.array([d01, d02])\n",
    "    ht = 0.005  #time step\n",
    "    sigma = 0\n",
    "    time1 = []  \n",
    "    Ysol1 = []\n",
    "    time1.append(t)\n",
    "    Ysol1.append(y)\n",
    "\n",
    "    while t <= tend:\n",
    "        #ht = min(ht,tend-t)\n",
    "        #y = y + Heun(Fdet,FrandDet,t,y,%%html)\n",
    "        y = y + rk4(Fdet,t,y,ht)\n",
    "        for ii in range(len(y)):\n",
    "            y[ii] = max(0, y[ii])\n",
    "        t = t + ht\n",
    "        time1.append(t)\n",
    "        Ysol1.append(y)\n",
    "    \n",
    "    y_init = y\n",
    "    dfct_init = dfct\n",
    "        \n",
    "    Ep_sum_av = 0\n",
    "    time2_list = []\n",
    "    Ysol2_list = []\n",
    "    Deficit_list = []\n",
    "    All_tchange_Lists = []\n",
    "    \n",
    "    for nn in range(trials):\n",
    "        tau_dist = 4.0 #time to overcome distance between food and water sources\n",
    "        t = 0.0\n",
    "        tau = tau_dist/2.0 #initially animal is in between the two sources\n",
    "        tchange = 0.0\n",
    "        sigma = 0.01\n",
    "        nfood = 2\n",
    "        nwater = 2\n",
    "\n",
    "        Tep = []\n",
    "        Ep = []\n",
    "        Ep_sum = 0\n",
    "        time2 = []  \n",
    "        Ysol2 = []\n",
    "        Deficit = []\n",
    "        time2.append(t)\n",
    "        Ysol2.append(y)\n",
    "        Deficit.append(dfct)\n",
    "        Tbout_max = bout_max_99\n",
    "        tchange_list=[]\n",
    "        \n",
    "        tend = Tbout_max + 1\n",
    "        while t <= tend:\n",
    "            for kk in range(1,Tbout_max+1):\n",
    "                if t > kk-ht/2 and t < kk+ht/2:\n",
    "                    Tep.append(int(t+ht))\n",
    "                    penalty = dfct[0]*dfct[0] + dfct[1]*dfct[1]\n",
    "                    Ep.append(penalty*lam_interrupt*pow(1-lam_interrupt,int(t+ht)-1))\n",
    "            \n",
    "            \n",
    "            if y[0] == y[1]:\n",
    "                randNr = rand.uniform(0,1)\n",
    "                if randNr < 0.5:\n",
    "                    y[0] = y[0] + eps_offset\n",
    "                else:\n",
    "                    y[1] = y[1] + eps_offset\n",
    "                    \n",
    "            dely1 = y[0] - y[1]\n",
    "            \n",
    "            if y[0] > y[1]:\n",
    "                if t > tchange + tau: \n",
    "                    dfct[0] = dfct[0] - decay*ht  \n",
    "                    nfood = 1\n",
    "                    nwater = 0\n",
    "            elif y[1] > y[0]:\n",
    "                if t > tchange + tau: \n",
    "                    dfct[1] = dfct[1] - decay*ht \n",
    "                    nwater = 1\n",
    "                    nfood = 0   \n",
    "                \n",
    "            \n",
    "            for jj in range(len(dfct)):\n",
    "                dfct[jj] = max(0, dfct[jj])\n",
    "            \n",
    "            y = y + Heun(Fdet,Frand,t,y,ht)\n",
    "            for ii in range(len(y)):\n",
    "                y[ii] = max(0, y[ii])\n",
    "                \n",
    "            if y[0] == y[1]:\n",
    "                randNr = rand.uniform(0,1)\n",
    "                if randNr < 0.5:\n",
    "                    y[0] = y[0] + eps_offset\n",
    "                else:\n",
    "                    y[1] = y[1] + eps_offset\n",
    "                    \n",
    "            dely2 = y[0] - y[1]\n",
    "            \n",
    "            if np.sign(dely1)*np.sign(dely2) < 0:\n",
    "                tchange_old = tchange\n",
    "                tchange = t\n",
    "                \n",
    "                tchange_list.append(tchange)\n",
    "                if nfood == 1 or nwater == 1:\n",
    "                    tau = tau_dist\n",
    "                    nfood = 0\n",
    "                    nwater = 0\n",
    "                else:\n",
    "                    tau = tau_dist-tau + tchange-tchange_old\n",
    "            \n",
    "            t = t + ht\n",
    "            dfct = np.array([dfct[0], dfct[1]])\n",
    "            Deficit.append(dfct)\n",
    "            time2.append(t)\n",
    "            Ysol2.append(y)\n",
    "        \n",
    "        time2_list = time2_list + time2\n",
    "        Ysol2_list = Ysol2_list + Ysol2\n",
    "        Deficit_list = Deficit_list + Deficit\n",
    "        Ep_sum = np.sum(Ep)\n",
    "        Ep_sum_av += Ep_sum/trials\n",
    "        y = y_init\n",
    "        dfct = dfct_init\n",
    "        All_tchange_Lists.append(tchange_list)\n",
    "    \n",
    "    time2_av = []\n",
    "    Ysol2_av = []\n",
    "    Deficit_av = []\n",
    "    for kk in range(len(time2)):\n",
    "        time2_av.append(np.sum(time2_list[kk::len(time2)])/trials)\n",
    "        Ysol2_av.append(sum(Ysol2_list[kk::len(time2)])/trials)\n",
    "        Deficit_av.append(sum(Deficit_list[kk::len(time2)])/trials)\n",
    "    return Ep_sum_av,time1,Ysol1,time2_av,Ysol2_av,Deficit_av,tau_dist,All_tchange_Lists"
   ]
  },
  {
   "cell_type": "code",
   "execution_count": 6,
   "metadata": {
    "collapsed": false
   },
   "outputs": [
    {
     "name": "stdout",
     "output_type": "stream",
     "text": [
      "elapsed time = 5650.742929726141 seconds\n"
     ]
    }
   ],
   "source": [
    "rlist = [1,1,2,2]\n",
    "#rlist = [1,1,1,1]\n",
    "\n",
    "import timeit\n",
    "time_start = timeit.default_timer()\n",
    "nr_engines = len(clients.ids)\n",
    "randSeedList = [(jj+1)*1928374 for jj in range(nr_engines)]\n",
    "nr_trials_tot = 2000\n",
    "nr_trials_per_engine = int(nr_trials_tot/nr_engines)\n",
    "results = dview.map_sync(Sim_Anim_Beh, [nr_trials_per_engine]*nr_engines, randSeedList, rlist)\n",
    "time_stop = timeit.default_timer()\n",
    "print('elapsed time =',time_stop - time_start,'seconds')\n",
    "#print(randSeedList)"
   ]
  },
  {
   "cell_type": "code",
   "execution_count": 7,
   "metadata": {
    "collapsed": true
   },
   "outputs": [],
   "source": [
    "%matplotlib notebook\n",
    "import matplotlib.pyplot as plt\n",
    "import matplotlib.ticker as ticker\n",
    "from matplotlib.lines import Line2D\n",
    "import csv"
   ]
  },
  {
   "cell_type": "code",
   "execution_count": 17,
   "metadata": {
    "collapsed": false
   },
   "outputs": [
    {
     "name": "stdout",
     "output_type": "stream",
     "text": [
      "11\n",
      "5\n",
      "[  9.559195   8.13731    8.68519    8.94972    9.82792   10.91148   10.66614\n",
      "   7.208285   2.4729     0.386675   0.01292 ]\n",
      "13\n",
      "1\n",
      "[  5.66567500e+00   5.86499000e+00   5.77306500e+00   5.62717500e+00\n",
      "   5.36028000e+00   4.90903000e+00   4.15749500e+00   3.05442500e+00\n",
      "   1.87500000e+00   9.05535000e-01   2.77485000e-01   3.51500000e-02\n",
      "   5.49500000e-03]\n"
     ]
    }
   ],
   "source": [
    "diffThresh=4\n",
    "results_r1_combined=results[0][7]+results[1][7]\n",
    "with open(\"motivChanges_diffThresh\"+str(diffThresh)+\"_r_eq_1.csv\", \"w\") as outf1:\n",
    "    writer = csv.writer(outf1)\n",
    "    writer.writerows(results_r1_combined)\n",
    "    \n",
    "results_r1=[np.asarray([y - x for x,y in zip(results_r1_combined[jj],results_r1_combined[jj][1:])]) for jj in range(len(results_r1_combined))]\n",
    "results_r1_mod=[results_r1[jj][results_r1[jj]>diffThresh] for jj in range(len(results_r1))]\n",
    "results_r1_len=[len(results_r1_mod[jj]) for jj in range(len(results_r1_mod))]\n",
    "results_r1_maxLen = np.max(results_r1_len)\n",
    "results_r1_minLen = np.min(results_r1_len)\n",
    "print(results_r1_maxLen)\n",
    "print(results_r1_minLen)\n",
    "results_r1_mod=np.asarray([(list(results_r1_mod[jj]) + results_r1_maxLen * [0])[:results_r1_maxLen] for jj in range(len(results_r1_mod))])\n",
    "results_r1_av=np.mean(results_r1_mod, axis=0)\n",
    "print(results_r1_av)\n",
    "\n",
    "results_r2_combined=results[2][7]+results[3][7]\n",
    "with open(\"motivChanges_diffThresh\"+str(diffThresh)+\"_r_eq_2.csv\", \"w\") as outf2:\n",
    "    writer = csv.writer(outf2)\n",
    "    writer.writerows(results_r2_combined)\n",
    "results_r2=[np.asarray([y - x for x,y in zip(results_r2_combined[jj],results_r2_combined[jj][1:])]) for jj in range(len(results_r2_combined))]\n",
    "results_r2_mod=[results_r2[jj][results_r2[jj]>diffThresh] for jj in range(len(results_r2))]\n",
    "results_r2_len=[len(results_r2_mod[jj]) for jj in range(len(results_r2_mod))]\n",
    "results_r2_maxLen = np.max(results_r2_len)\n",
    "results_r2_minLen = np.min(results_r2_len)\n",
    "print(results_r2_maxLen)\n",
    "print(results_r2_minLen)\n",
    "results_r2_mod=np.asarray([(list(results_r2_mod[jj]) + results_r2_maxLen * [0])[:results_r2_maxLen] for jj in range(len(results_r2_mod))])\n",
    "results_r2_av=np.mean(results_r2_mod, axis=0)\n",
    "print(results_r2_av)"
   ]
  },
  {
   "cell_type": "code",
   "execution_count": null,
   "metadata": {
    "collapsed": false
   },
   "outputs": [],
   "source": [
    "##The following is relevant for an extra figure in the APPENDIX\n",
    "\n",
    "figExtra = plt.figure(figsize=(8,6))\n",
    "\n",
    "plt.plot(np.arange(len(results_r1_av))+1,results_r1_av)\n",
    "plt.plot(np.arange(len(results_r2_av))+1,results_r2_av)\n",
    "#plt.plot(np.arange(len(results_r1_av[:results_r1_minLen]))+1,results_r1_av[:results_r1_minLen])\n",
    "#plt.plot(np.arange(len(results_r2_av[:results_r2_minLen]))+1,results_r2_av[:results_r2_minLen])\n",
    "\n",
    "plt.tight_layout();"
   ]
  },
  {
   "cell_type": "code",
   "execution_count": null,
   "metadata": {
    "collapsed": true
   },
   "outputs": [],
   "source": []
  }
 ],
 "metadata": {
  "kernelspec": {
   "display_name": "Python 3",
   "language": "python",
   "name": "python3"
  },
  "language_info": {
   "codemirror_mode": {
    "name": "ipython",
    "version": 3
   },
   "file_extension": ".py",
   "mimetype": "text/x-python",
   "name": "python",
   "nbconvert_exporter": "python",
   "pygments_lexer": "ipython3",
   "version": "3.5.1"
  }
 },
 "nbformat": 4,
 "nbformat_minor": 0
}
