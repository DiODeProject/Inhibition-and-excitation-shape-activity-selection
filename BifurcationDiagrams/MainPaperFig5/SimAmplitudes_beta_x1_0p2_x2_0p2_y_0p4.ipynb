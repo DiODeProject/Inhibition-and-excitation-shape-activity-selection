{
 "cells": [
  {
   "cell_type": "markdown",
   "metadata": {},
   "source": [
    "# Notebook to calculate amplitudes in presence of artificial nonlinearity\n",
    "\n",
    "## The artificial nonlinearity is introduced via x(t)=max(0,x(t)), i.e. always non-negative"
   ]
  },
  {
   "cell_type": "code",
   "execution_count": 1,
   "metadata": {
    "collapsed": false
   },
   "outputs": [],
   "source": [
    "import numpy as np\n",
    "from math import exp,sqrt,log\n",
    "import numpy.random\n",
    "%matplotlib notebook\n",
    "import matplotlib.pyplot as plt\n",
    "import matplotlib.ticker as ticker"
   ]
  },
  {
   "cell_type": "code",
   "execution_count": 2,
   "metadata": {
    "collapsed": true
   },
   "outputs": [],
   "source": [
    "x1start=0.2\n",
    "x2start=0.2\n",
    "ystart=0.4"
   ]
  },
  {
   "cell_type": "code",
   "execution_count": 3,
   "metadata": {
    "collapsed": false
   },
   "outputs": [],
   "source": [
    "##############################################################################################\n",
    "# Runge_Kutta 4th-order\n",
    "##############################################################################################\n",
    "def rk4(F,t,y,ht):\n",
    "    K0 = ht*F(t,y,dfct)\n",
    "    K1 = ht*F(t + ht/2.0, y + K0/2.0,dfct)\n",
    "    K2 = ht*F(t + ht/2.0, y + K1/2.0,dfct)\n",
    "    K3 = ht*F(t + ht, y + K2,dfct)\n",
    "    return (K0 + 2.0*K1 + 2.0*K2 + K3)/6.0\n",
    "\n",
    "####################################################\n",
    "# Predictor-corrector integration routine: Heun for stochastic differential equations\n",
    "####################################################\n",
    "# time t\n",
    "# time step ht\n",
    "# number of equations (=dimensionality) n\n",
    "# random numbers xi\n",
    "# deterministic and stochastic contributons Fdet and Frand\n",
    "def Heun(Fdet, Frand,t,y,ht):\n",
    "    fd1 = np.zeros(3)\n",
    "    fd2 = np.zeros(3)\n",
    "    fr = np.zeros(3)\n",
    "    yt = np.zeros(3)\n",
    "    fd1 = Fdet(t,y,dfct)\n",
    "    fr = Frand()\n",
    "    yt = y + ht*fd1 + fr*sqrt(ht)\n",
    "    fd2 = Fdet(t+ht,yt,dfct)\n",
    "    ht2 = ht/2.0\n",
    "    return ht2*(fd1+fd2) + fr*sqrt(ht)\n",
    "\n",
    "#activation function\n",
    "def actfct(z,g,b):\n",
    "    return 1/(1+exp(-g*(z-b)))\n",
    "\n",
    "#differential equations motivations\n",
    "#determnistic part\n",
    "\n",
    "#nonlinear model\n",
    "#use this model for Figs 2A-F and Figs 4B and 4C (and comment linear model below)\n",
    "def Fdet(t,y,dfct):\n",
    "    Fdet = np.zeros(3)\n",
    "    Fdet[0] = -k*y[0] + beta*r*actfct(y[0],g1,b1) - beta*actfct(y[2],g2,b2) + q*dfct[0]\n",
    "    Fdet[1] = -k*y[1] + beta*r*actfct(y[1],g1,b1) - beta*actfct(y[2],g2,b2) + q*dfct[1]\n",
    "    Fdet[2] = -kinh*y[2] + w_exc*(actfct(y[0],g1,b1) + actfct(y[1],g1,b1))\n",
    "    return Fdet\n",
    "\n",
    "'''  \n",
    "#linear model\n",
    "# use this model for Figs 4E and F (and comment nonlinear model above)\n",
    "def Fdet(t,y,dfct):\n",
    "    Fdet = np.zeros(3)\n",
    "    Fdet[0] = (r*beta*g1/4-k)*y[0] - beta*g2/4*y[2] + q*dfct[0] + phi\n",
    "    Fdet[1] = (r*beta*g1/4-k)*y[1] - beta*g2/4*y[2] + q*dfct[1] + phi\n",
    "    Fdet[2] = -kinh*y[2] + w_exc*(1 - g1*b1/2 + g1/4*(y[0] + y[1]))\n",
    "    return Fdet\n",
    "'''\n",
    "\n",
    "def FrandDet():\n",
    "    FrandDet = np.zeros(3)\n",
    "    return FrandDet\n",
    "\n",
    "\n",
    "\n",
    "# stochastic part of RHS   \n",
    "def Frand():\n",
    "    Frand = np.zeros(3)\n",
    "    xRand0 = rand.normal(0,1)\n",
    "    xRand1 = rand.normal(0,1)\n",
    "    Frand[0] = sigma*xRand0\n",
    "    Frand[1] = sigma*xRand1\n",
    "    Frand[2] = 0\n",
    "    return Frand\n",
    "\n",
    "# model parameters\n",
    "k = 0.8 # leak excitatory unit\n",
    "kinh = 0.8 # leak inhibitory unit\n",
    "w_exc = 3 # excitation strength inhibitory unit\n",
    "q = 0.1 # frequency of integration\n",
    "g1 = 10 # gain excitation function\n",
    "g2 = 10 # gain inhibition function\n",
    "b1 = 0.5 # midpoint excitation function\n",
    "b2 = 0.5 # midpoint inhibition function\n",
    "#beta = 3 #3 # inhibition strength\n",
    "r = 1\n",
    "\n",
    "\n",
    "eps_offset = 1e-9\n",
    "\n",
    "d01 = 7.5\n",
    "d02 = 7.5\n",
    "dfct = np.array([d01, d02])\n",
    "#dfct_start = 7.5\n",
    "tend = 250  #terminal time \n",
    "ht = 0.005  #time step\n",
    "sigma = 0\n",
    "\n",
    "\n",
    "maxAmp=[]\n",
    "minAmp=[]\n",
    "lastX=[]\n",
    "paramList=[]\n",
    "paramRange = [0.01*jj for jj in range(502)]\n",
    "#paramRange = [1.86+0.1*jj for jj in range(32)]\n",
    "#paramRange = [1.86+0.02*jj for jj in range(158)]\n",
    "#paramRange = [3.36+0.02*jj for jj in range(84)]\n",
    "for param in paramRange:\n",
    "    #r = param\n",
    "    beta=param\n",
    "    paramList.append(param)\n",
    "    y1 = np.array([x1start, x2start, ystart])  #initial conditions\n",
    "    #y1 = np.array([0.0, 0.0, 0.0])  #initial conditions\n",
    "    t = 0.0  #start time\n",
    "    time = []  \n",
    "    Ysol1 = []\n",
    "    #Ysol2 = []\n",
    "    time.append(t)\n",
    "    Ysol1.append(y1)\n",
    "    #Ysol2.append(y2)\n",
    "    while t <= tend:\n",
    "        #ht = min(ht,tend-t)\n",
    "        y1 = y1 + Heun(Fdet,FrandDet,t,y1,ht)\n",
    "        for ii in range(len(y1)):\n",
    "            y1[ii] = max(0, y1[ii])\n",
    "        #y2 = y2 + Heun(Fdet,FrandDet,t,y2,ht)\n",
    "        t = t + ht\n",
    "        time.append(t)\n",
    "        Ysol1.append(y1)\n",
    "        #Ysol2.append(y2)\n",
    "    time2=np.asarray(time)\n",
    "    time3=time2[time2>tend-50]\n",
    "    time3\n",
    "    YsolB=np.asarray(Ysol1)\n",
    "    YsolC=YsolB[time2>tend-50]\n",
    "    dYsol=[YsolC[jj][0]-YsolC[jj][1] for jj in range(len(YsolC))]\n",
    "    maxYsol=np.max(dYsol)\n",
    "    minYsol=np.min(dYsol)\n",
    "    maxAmp.append(maxYsol)\n",
    "    minAmp.append(minYsol)\n",
    "    lastX.append(YsolC[-1])"
   ]
  },
  {
   "cell_type": "code",
   "execution_count": 4,
   "metadata": {
    "collapsed": false
   },
   "outputs": [],
   "source": [
    "with open('Amplitudes_beta_X1start_'+ str(round(x1start,2))+'_X2start_'+str(round(x2start,2)) +'_Ystart_'+ str(round(ystart,2)) +'.csv', 'w') as outfile:\n",
    "    outfile.write(\"# bifParam, maxAmp, minAmp, x1_last, x2_last, y_last\\n\")\n",
    "    for jj in range(len(paramList)):\n",
    "        outfile.write(str(paramList[jj]) + ',' + str(maxAmp[jj]) + ',' + str(minAmp[jj]) \n",
    "                      + ',' + str(lastX[jj][0]) + ',' + str(lastX[jj][1]) + ',' + str(lastX[jj][2]) + '\\n')"
   ]
  },
  {
   "cell_type": "code",
   "execution_count": null,
   "metadata": {
    "collapsed": true
   },
   "outputs": [],
   "source": []
  },
  {
   "cell_type": "code",
   "execution_count": null,
   "metadata": {
    "collapsed": true
   },
   "outputs": [],
   "source": []
  },
  {
   "cell_type": "markdown",
   "metadata": {},
   "source": [
    "## Plot of  x1(t)  with artificial nonlinearity"
   ]
  },
  {
   "cell_type": "code",
   "execution_count": null,
   "metadata": {
    "collapsed": false
   },
   "outputs": [],
   "source": [
    "fig=plt.figure(figsize=(8,6))\n",
    "plt.plot(np.asarray(time),np.asarray(Ysol1)[:,0],c = 'g',lw = 3,label = r'$x_1$ non-neg')\n",
    "#plt.plot(np.asarray(time),np.asarray(Ysol2)[:,0],c = 'b', ls = '--', lw = 3,label = r'$x_1$ neg')\n",
    "plt.legend(loc='lower right', frameon=True, handlelength=4, borderpad=0.4, labelspacing=0.2, fontsize=20)\n",
    "ax = plt.axes()\n",
    "plt.xlabel(r'time t ', fontsize=26)\n",
    "plt.ylabel(r'motivations', fontsize=26)\n",
    "for tick in ax.xaxis.get_major_ticks():\n",
    "    tick.label.set_fontsize(22) \n",
    "for tick in ax.yaxis.get_major_ticks():\n",
    "    tick.label.set_fontsize(22)\n",
    "#plt.tick_params(labelsize=14)\n",
    "#plt.xlim(-200,0)\n",
    "#plt.ylim(0,0.6)\n",
    "ax.xaxis.set_major_locator(ticker.MultipleLocator(100))\n",
    "ax.xaxis.set_minor_locator(ticker.MultipleLocator(10))\n",
    "#ax.yaxis.set_major_locator(ticker.MultipleLocator(0.1))\n",
    "#ax.yaxis.set_minor_locator(ticker.MultipleLocator(0.05))\n",
    "for axis in ['top','bottom','left','right']:\n",
    "    ax.spines[axis].set_linewidth(2)\n",
    "ax.tick_params('both', length=8, width=2, which='major')\n",
    "ax.tick_params('both', length=6, width=1, which='minor')\n",
    "\n",
    "#ax.annotate(r'initial motivations', xy=(0, np.asarray(Ysol1)[-1,0]), xytext=(-80, 2.4), fontsize=24,\n",
    "#            arrowprops=dict(facecolor='k', edgecolor='k', shrink=0.03),\n",
    "#            horizontalalignment='center', verticalalignment='bottom')\n",
    "\n",
    "plt.tight_layout();"
   ]
  },
  {
   "cell_type": "markdown",
   "metadata": {},
   "source": [
    "## Plot of  x2(t)  with artificial nonlinearity"
   ]
  },
  {
   "cell_type": "code",
   "execution_count": null,
   "metadata": {
    "collapsed": false
   },
   "outputs": [],
   "source": [
    "fig2=plt.figure(figsize=(8,6))\n",
    "plt.plot(np.asarray(time),np.asarray(Ysol1)[:,1],c = 'g',lw = 3,label = r'$x_2$ non-neg')\n",
    "#plt.plot(np.asarray(time),np.asarray(Ysol2)[:,1],c = 'b', ls = '--', lw = 3,label = r'$x_2$ neg')\n",
    "plt.legend(loc='lower right', frameon=True, handlelength=4, borderpad=0.4, labelspacing=0.2, fontsize=20)\n",
    "ax = plt.axes()\n",
    "plt.xlabel(r'time t ', fontsize=26)\n",
    "plt.ylabel(r'motivations', fontsize=26)\n",
    "for tick in ax.xaxis.get_major_ticks():\n",
    "    tick.label.set_fontsize(22) \n",
    "for tick in ax.yaxis.get_major_ticks():\n",
    "    tick.label.set_fontsize(22)\n",
    "#plt.tick_params(labelsize=14)\n",
    "#plt.xlim(-200,0)\n",
    "#plt.ylim(0,0.6)\n",
    "ax.xaxis.set_major_locator(ticker.MultipleLocator(100))\n",
    "ax.xaxis.set_minor_locator(ticker.MultipleLocator(10))\n",
    "#ax.yaxis.set_major_locator(ticker.MultipleLocator(0.1))\n",
    "#ax.yaxis.set_minor_locator(ticker.MultipleLocator(0.05))\n",
    "for axis in ['top','bottom','left','right']:\n",
    "    ax.spines[axis].set_linewidth(2)\n",
    "ax.tick_params('both', length=8, width=2, which='major')\n",
    "ax.tick_params('both', length=6, width=1, which='minor')\n",
    "\n",
    "#ax.annotate(r'initial motivations', xy=(0, np.asarray(Ysol1)[-1,0]), xytext=(-80, 2.4), fontsize=24,\n",
    "#            arrowprops=dict(facecolor='k', edgecolor='k', shrink=0.03),\n",
    "#            horizontalalignment='center', verticalalignment='bottom')\n",
    "\n",
    "plt.tight_layout();"
   ]
  },
  {
   "cell_type": "markdown",
   "metadata": {},
   "source": [
    "## Plot of  x1(t)-x2(t)  with and without artificial nonlinearity"
   ]
  },
  {
   "cell_type": "code",
   "execution_count": null,
   "metadata": {
    "collapsed": false
   },
   "outputs": [],
   "source": [
    "fig3=plt.figure(figsize=(8,6))\n",
    "plt.plot(np.asarray(time),np.asarray(Ysol1)[:,0]-np.asarray(Ysol1)[:,1],c = 'g',lw = 3,label = r'$x_1-x_2$')\n",
    "#plt.plot(np.asarray(time),np.asarray(Ysol2)[:,0]-np.asarray(Ysol2)[:,1],c = 'b', ls = '--', lw = 3,label = r'$x_2$ neg')\n",
    "plt.legend(loc='lower right', frameon=True, handlelength=4, borderpad=0.4, labelspacing=0.2, fontsize=20)\n",
    "ax = plt.axes()\n",
    "plt.xlabel(r'time t ', fontsize=26)\n",
    "plt.ylabel(r'motivations', fontsize=26)\n",
    "for tick in ax.xaxis.get_major_ticks():\n",
    "    tick.label.set_fontsize(22) \n",
    "for tick in ax.yaxis.get_major_ticks():\n",
    "    tick.label.set_fontsize(22)\n",
    "#plt.tick_params(labelsize=14)\n",
    "#plt.xlim(-200,0)\n",
    "#plt.ylim(0,0.6)\n",
    "ax.xaxis.set_major_locator(ticker.MultipleLocator(100))\n",
    "ax.xaxis.set_minor_locator(ticker.MultipleLocator(10))\n",
    "#ax.yaxis.set_major_locator(ticker.MultipleLocator(0.1))\n",
    "#ax.yaxis.set_minor_locator(ticker.MultipleLocator(0.05))\n",
    "for axis in ['top','bottom','left','right']:\n",
    "    ax.spines[axis].set_linewidth(2)\n",
    "ax.tick_params('both', length=8, width=2, which='major')\n",
    "ax.tick_params('both', length=6, width=1, which='minor')\n",
    "\n",
    "#ax.annotate(r'initial motivations', xy=(0, np.asarray(Ysol1)[-1,0]), xytext=(-80, 2.4), fontsize=24,\n",
    "#            arrowprops=dict(facecolor='k', edgecolor='k', shrink=0.03),\n",
    "#            horizontalalignment='center', verticalalignment='bottom')\n",
    "\n",
    "plt.tight_layout();"
   ]
  },
  {
   "cell_type": "markdown",
   "metadata": {},
   "source": [
    "## Plot of  y(t)  with artificial nonlinearity"
   ]
  },
  {
   "cell_type": "code",
   "execution_count": null,
   "metadata": {
    "collapsed": false
   },
   "outputs": [],
   "source": [
    "fig4=plt.figure(figsize=(8,6))\n",
    "plt.plot(np.asarray(time),np.asarray(Ysol1)[:,2],c = 'g',lw = 3,label = r'$y$ non-neg')\n",
    "#plt.plot(np.asarray(time),np.asarray(Ysol2)[:,2],c = 'b', ls = '--', lw = 3,label = r'$y$ neg')\n",
    "plt.legend(loc='lower right', frameon=True, handlelength=4, borderpad=0.4, labelspacing=0.2, fontsize=20)\n",
    "ax = plt.axes()\n",
    "plt.xlabel(r'time t ', fontsize=26)\n",
    "plt.ylabel(r'motivations', fontsize=26)\n",
    "for tick in ax.xaxis.get_major_ticks():\n",
    "    tick.label.set_fontsize(22) \n",
    "for tick in ax.yaxis.get_major_ticks():\n",
    "    tick.label.set_fontsize(22)\n",
    "#plt.tick_params(labelsize=14)\n",
    "#plt.xlim(-200,0)\n",
    "#plt.ylim(0,0.6)\n",
    "ax.xaxis.set_major_locator(ticker.MultipleLocator(50))\n",
    "ax.xaxis.set_minor_locator(ticker.MultipleLocator(10))\n",
    "#ax.yaxis.set_major_locator(ticker.MultipleLocator(0.1))\n",
    "#ax.yaxis.set_minor_locator(ticker.MultipleLocator(0.05))\n",
    "for axis in ['top','bottom','left','right']:\n",
    "    ax.spines[axis].set_linewidth(2)\n",
    "ax.tick_params('both', length=8, width=2, which='major')\n",
    "ax.tick_params('both', length=6, width=1, which='minor')\n",
    "\n",
    "#ax.annotate(r'initial motivations', xy=(0, np.asarray(Ysol1)[-1,0]), xytext=(-80, 2.4), fontsize=24,\n",
    "#            arrowprops=dict(facecolor='k', edgecolor='k', shrink=0.03),\n",
    "#            horizontalalignment='center', verticalalignment='bottom')\n",
    "\n",
    "plt.tight_layout();"
   ]
  },
  {
   "cell_type": "code",
   "execution_count": null,
   "metadata": {
    "collapsed": true
   },
   "outputs": [],
   "source": []
  }
 ],
 "metadata": {
  "kernelspec": {
   "display_name": "Python 3",
   "language": "python",
   "name": "python3"
  },
  "language_info": {
   "codemirror_mode": {
    "name": "ipython",
    "version": 3
   },
   "file_extension": ".py",
   "mimetype": "text/x-python",
   "name": "python",
   "nbconvert_exporter": "python",
   "pygments_lexer": "ipython3",
   "version": "3.5.1"
  }
 },
 "nbformat": 4,
 "nbformat_minor": 0
}
