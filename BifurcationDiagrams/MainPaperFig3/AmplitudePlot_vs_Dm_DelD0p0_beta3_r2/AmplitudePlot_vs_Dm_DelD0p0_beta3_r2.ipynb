{
 "cells": [
  {
   "cell_type": "markdown",
   "metadata": {},
   "source": [
    "## This notebook may be used to reproduce Fig3B."
   ]
  },
  {
   "cell_type": "code",
   "execution_count": 1,
   "metadata": {
    "collapsed": false
   },
   "outputs": [],
   "source": [
    "import matplotlib\n",
    "import matplotlib.ticker as ticker\n",
    "from scipy.stats import geom\n",
    "import matplotlib.pyplot as plt\n",
    "import numpy as np\n",
    "import pandas as pd\n",
    "%matplotlib inline"
   ]
  },
  {
   "cell_type": "code",
   "execution_count": 2,
   "metadata": {
    "collapsed": false
   },
   "outputs": [],
   "source": [
    "# read data\n",
    "Amp1 = pd.read_csv('./Amplitudes_vs_Dm_DelD0.0_beta3_r2_X1start_0.0_X2start_0.0.csv',header=0)\n",
    "Amp1 = np.asarray(Amp1)\n",
    "Amp2 = pd.read_csv('./Amplitudes_vs_Dm_DelD0.0_beta3_r2_X1start_0.2_X2start_0.0.csv',header=0)\n",
    "Amp2 = np.asarray(Amp2)\n",
    "Amp3 = pd.read_csv('./Amplitudes_vs_Dm_DelD0.0_beta3_r2_X1start_0.4_X2start_0.0.csv',header=0)\n",
    "Amp3 = np.asarray(Amp3)\n",
    "Amp4 = pd.read_csv('./Amplitudes_vs_Dm_DelD0.0_beta3_r2_X1start_1.0_X2start_0.0.csv',header=0)\n",
    "Amp4 = np.asarray(Amp4)\n",
    "Amp5 = pd.read_csv('./Amplitudes_vs_Dm_DelD0.0_beta3_r2_X1start_1.0_X2start_1.0.csv',header=0)\n",
    "Amp5 = np.asarray(Amp5)\n",
    "Amp6 = pd.read_csv('./Amplitudes_vs_Dm_DelD0.0_beta3_r2_X1start_5.0_X2start_0.0.csv',header=0)\n",
    "Amp6 = np.asarray(Amp6)\n",
    "Amp7 = pd.read_csv('./Amplitudes_vs_Dm_DelD0.0_beta3_r2_X1start_5.0_X2start_5.0.csv',header=0)\n",
    "Amp7 = np.asarray(Amp7)"
   ]
  },
  {
   "cell_type": "code",
   "execution_count": 3,
   "metadata": {
    "collapsed": false
   },
   "outputs": [],
   "source": [
    "# sort data\n",
    "Amp1_beta=np.asarray([Amp1[jj][0] for jj in range(len(Amp1))])\n",
    "Amp1_max=np.asarray([Amp1[jj][1] for jj in range(len(Amp1))])\n",
    "Amp1_min=np.asarray([Amp1[jj][2] for jj in range(len(Amp1))])\n",
    "Amp1_x1=np.asarray([Amp1[jj][3] for jj in range(len(Amp1))])\n",
    "Amp1_x2=np.asarray([Amp1[jj][4] for jj in range(len(Amp1))])\n",
    "Amp1_y=np.asarray([Amp1[jj][5] for jj in range(len(Amp1))])\n",
    "\n",
    "Amp2_beta=np.asarray([Amp2[jj][0] for jj in range(len(Amp2))])\n",
    "Amp2_max=np.asarray([Amp2[jj][1] for jj in range(len(Amp2))])\n",
    "Amp2_min=np.asarray([Amp2[jj][2] for jj in range(len(Amp2))])\n",
    "Amp2_x1=np.asarray([Amp2[jj][3] for jj in range(len(Amp2))])\n",
    "Amp2_x2=np.asarray([Amp2[jj][4] for jj in range(len(Amp2))])\n",
    "Amp2_y=np.asarray([Amp2[jj][5] for jj in range(len(Amp2))])\n",
    "\n",
    "Amp3_beta=np.asarray([Amp3[jj][0] for jj in range(len(Amp3))])\n",
    "Amp3_max=np.asarray([Amp3[jj][1] for jj in range(len(Amp3))])\n",
    "Amp3_min=np.asarray([Amp3[jj][2] for jj in range(len(Amp3))])\n",
    "Amp3_x1=np.asarray([Amp3[jj][3] for jj in range(len(Amp3))])\n",
    "Amp3_x2=np.asarray([Amp3[jj][4] for jj in range(len(Amp3))])\n",
    "Amp3_y=np.asarray([Amp3[jj][5] for jj in range(len(Amp3))])\n",
    "\n",
    "Amp4_beta=np.asarray([Amp4[jj][0] for jj in range(len(Amp4))])\n",
    "Amp4_max=np.asarray([Amp4[jj][1] for jj in range(len(Amp4))])\n",
    "Amp4_min=np.asarray([Amp4[jj][2] for jj in range(len(Amp4))])\n",
    "Amp4_x1=np.asarray([Amp4[jj][3] for jj in range(len(Amp4))])\n",
    "Amp4_x2=np.asarray([Amp4[jj][4] for jj in range(len(Amp4))])\n",
    "Amp4_y=np.asarray([Amp4[jj][5] for jj in range(len(Amp4))])\n",
    "\n",
    "Amp5_beta=np.asarray([Amp5[jj][0] for jj in range(len(Amp5))])\n",
    "Amp5_max=np.asarray([Amp5[jj][1] for jj in range(len(Amp5))])\n",
    "Amp5_min=np.asarray([Amp5[jj][2] for jj in range(len(Amp5))])\n",
    "Amp5_x1=np.asarray([Amp5[jj][3] for jj in range(len(Amp5))])\n",
    "Amp5_x2=np.asarray([Amp5[jj][4] for jj in range(len(Amp5))])\n",
    "Amp5_y=np.asarray([Amp5[jj][5] for jj in range(len(Amp5))])\n",
    "\n",
    "Amp6_beta=np.asarray([Amp6[jj][0] for jj in range(len(Amp6))])\n",
    "Amp6_max=np.asarray([Amp6[jj][1] for jj in range(len(Amp6))])\n",
    "Amp6_min=np.asarray([Amp6[jj][2] for jj in range(len(Amp6))])\n",
    "Amp6_x1=np.asarray([Amp6[jj][3] for jj in range(len(Amp6))])\n",
    "Amp6_x2=np.asarray([Amp6[jj][4] for jj in range(len(Amp6))])\n",
    "Amp6_y=np.asarray([Amp6[jj][5] for jj in range(len(Amp6))])\n",
    "\n",
    "Amp7_beta=np.asarray([Amp7[jj][0] for jj in range(len(Amp7))])\n",
    "Amp7_max=np.asarray([Amp7[jj][1] for jj in range(len(Amp7))])\n",
    "Amp7_min=np.asarray([Amp7[jj][2] for jj in range(len(Amp7))])\n",
    "Amp7_x1=np.asarray([Amp7[jj][3] for jj in range(len(Amp7))])\n",
    "Amp7_x2=np.asarray([Amp7[jj][4] for jj in range(len(Amp7))])\n",
    "Amp7_y=np.asarray([Amp7[jj][5] for jj in range(len(Amp7))])"
   ]
  },
  {
   "cell_type": "code",
   "execution_count": 4,
   "metadata": {
    "collapsed": false
   },
   "outputs": [
    {
     "data": {
      "text/plain": [
       "[<matplotlib.lines.Line2D at 0x113e60b00>]"
      ]
     },
     "execution_count": 4,
     "metadata": {},
     "output_type": "execute_result"
    },
    {
     "data": {
      "image/png": "[encoded data removed]",
      "text/plain": [
       "<matplotlib.figure.Figure at 0x111a41dd8>"
      ]
     },
     "metadata": {},
     "output_type": "display_data"
    }
   ],
   "source": [
    "# test plot\n",
    "figTest = plt.figure(figsize=(8,6))\n",
    "ax = plt.axes()\n",
    "ax.plot(Amp1_beta, Amp1_max, lw=4, c='r', ls='-')\n",
    "ax.plot(Amp2_beta, Amp2_max, lw=4, c='g', ls='-')\n",
    "ax.plot(Amp3_beta, Amp3_max, lw=4, c='b', ls='-')\n",
    "ax.plot(Amp4_beta, Amp4_max, lw=4, c='y', ls='-')\n",
    "ax.plot(Amp5_beta, Amp5_max, lw=4, c='c', ls='-')\n",
    "ax.plot(Amp6_beta, Amp6_max, lw=4, c='0.3', ls='-')\n",
    "ax.plot(Amp7_beta, Amp7_max, lw=4, c='0.7', ls='-')\n",
    "ax.plot(Amp1_beta, Amp1_min, lw=4, c='r', ls='-')\n",
    "ax.plot(Amp2_beta, Amp2_min, lw=4, c='g', ls='-')\n",
    "ax.plot(Amp3_beta, Amp3_min, lw=4, c='b', ls='-')\n",
    "ax.plot(Amp4_beta, Amp4_min, lw=4, c='y', ls='-')\n",
    "ax.plot(Amp5_beta, Amp5_min, lw=4, c='c', ls='-')\n",
    "ax.plot(Amp6_beta, Amp6_min, lw=4, c='0.3', ls='-')\n",
    "ax.plot(Amp7_beta, Amp7_min, lw=4, c='0.7', ls='-')"
   ]
  },
  {
   "cell_type": "code",
   "execution_count": 5,
   "metadata": {
    "collapsed": false
   },
   "outputs": [
    {
     "data": {
      "text/plain": [
       "[<matplotlib.lines.Line2D at 0x1145b59e8>]"
      ]
     },
     "execution_count": 5,
     "metadata": {},
     "output_type": "execute_result"
    },
    {
     "data": {
      "image/png": "[encoded data removed]",
      "text/plain": [
       "<matplotlib.figure.Figure at 0x113eb1e10>"
      ]
     },
     "metadata": {},
     "output_type": "display_data"
    }
   ],
   "source": [
    "# test plot\n",
    "figTest = plt.figure(figsize=(8,6))\n",
    "ax = plt.axes()\n",
    "ax.plot(Amp1_beta, Amp1_x1-Amp1_x2, lw=4, c='r', ls='-')\n",
    "ax.plot(Amp2_beta, Amp2_x1-Amp2_x2, lw=4, c='g', ls='-')\n",
    "ax.plot(Amp3_beta, Amp3_x1-Amp3_x2, lw=4, c='b', ls='-')\n",
    "ax.plot(Amp4_beta, Amp4_x1-Amp4_x2, lw=4, c='y', ls='-')\n",
    "ax.plot(Amp5_beta, Amp5_x1-Amp5_x2, lw=4, c='c', ls='-')\n",
    "ax.plot(Amp6_beta, Amp6_x1-Amp6_x2, lw=4, c='0.3', ls='-')\n",
    "ax.plot(Amp7_beta, Amp7_x1-Amp7_x2, lw=4, c='0.7', ls='-')"
   ]
  },
  {
   "cell_type": "code",
   "execution_count": null,
   "metadata": {
    "collapsed": true
   },
   "outputs": [],
   "source": []
  },
  {
   "cell_type": "code",
   "execution_count": 6,
   "metadata": {
    "collapsed": false
   },
   "outputs": [
    {
     "data": {
      "image/png": "[encoded data removed]",
      "text/plain": [
       "<matplotlib.figure.Figure at 0x1145ca080>"
      ]
     },
     "metadata": {},
     "output_type": "display_data"
    }
   ],
   "source": [
    "# plot Fig.3B\n",
    "fig1 = plt.figure(figsize=(8,6))\n",
    "ax = plt.axes()\n",
    "\n",
    "Amp1_betaSelect=Amp1_beta\n",
    "Amp1_x1Select=Amp1_x1\n",
    "Amp1_x2Select=Amp1_x2\n",
    "Amp2_betaSelect=Amp2_beta\n",
    "Amp2_x1Select=Amp2_x1\n",
    "Amp2_x2Select=Amp2_x2\n",
    "\n",
    "ax.plot(Amp1_betaSelect, \n",
    "        Amp1_x1Select-Amp1_x2Select, lw=6, c='k', ls='-', label = r'stable')\n",
    "ax.plot(Amp2_betaSelect, \n",
    "        Amp2_x1Select-Amp2_x2Select, lw=6, c='k', ls='-')\n",
    "ax.plot(Amp2_betaSelect, \n",
    "        -Amp2_x1Select+Amp2_x2Select, lw=6, c='k', ls='-')\n",
    "\n",
    "#ax.plot([H1x,H2x],[H1y,H2y], 'ok', ms=20, mfc='grey',mew=2,mec='k')\n",
    "\n",
    "#plt.xlabel(r'inhibition strength $\\beta$', fontsize=28)\n",
    "ax.set_xlabel(r'mean deficit $d_m$', fontsize=34)    \n",
    "#ax.xaxis.set_label_position('top') \n",
    "#ax.xaxis.labelpad = 12\n",
    "#ax.tick_params(axis='x',labelbottom='off',labeltop='on', pad=2)\n",
    "plt.ylabel(r'motivations $x_1^{s}-x_2^{s}$', fontsize=34)\n",
    "#for tick in ax.xaxis.get_major_ticks():\n",
    "#    tick.label.set_fontsize(22) \n",
    "#for tick in ax.yaxis.get_major_ticks():\n",
    "#    tick.label.set_fontsize(22)\n",
    "plt.setp( ax.xaxis.get_majorticklabels(), rotation=0, fontsize=30)\n",
    "plt.setp( ax.yaxis.get_majorticklabels(), rotation=0, fontsize=30)\n",
    "\n",
    "\n",
    "ax.xaxis.set_major_locator(ticker.IndexLocator(base=1,offset=0))\n",
    "ax.xaxis.set_minor_locator(ticker.IndexLocator(base=0.25,offset=0))\n",
    "#ax.xaxis.set_major_locator(ticker.MultipleLocator(1))\n",
    "#ax.xaxis.set_minor_locator(ticker.MultipleLocator(0.25))\n",
    "ax.yaxis.set_major_locator(ticker.MultipleLocator(2))\n",
    "ax.yaxis.set_minor_locator(ticker.MultipleLocator(0.5))\n",
    "for axis in ['top','bottom','left','right']:\n",
    "    ax.spines[axis].set_linewidth(2)\n",
    "ax.tick_params('both', length=8, width=2, which='major', pad=8)\n",
    "ax.tick_params('both', length=6, width=1, which='minor')\n",
    "\n",
    "'''\n",
    "ax.plot([2.7,3.2],[0.03,0.03], c='k', ls='-', lw=5)\n",
    "ax.plot([2.7,3.2],[-0.03,-0.03], c='k', ls='--', lw=5)\n",
    "#ax.plot([0.2,0.45],[0.7,0.7], c='grey', ls=':', lw=6)\n",
    "ax.annotate(r'stable',\n",
    "            xy=(3.25, 0.03), xycoords='data', fontsize=28, \n",
    "            horizontalalignment='left', verticalalignment='center')\n",
    "ax.annotate(r'periodic',\n",
    "            xy=(3.25, -0.03), xycoords='data', fontsize=28, \n",
    "            horizontalalignment='left', verticalalignment='center')\n",
    "#ax.annotate(r'(min/max amplitudes)',\n",
    "#            xy=(4.6, 0.5), xycoords='data', fontsize=28, \n",
    "#            horizontalalignment='left', verticalalignment='center')\n",
    "'''\n",
    "plt.legend(bbox_to_anchor=(0, 0.2), loc='lower left', ncol=1, fontsize=28, \n",
    "           handlelength=2.5, fancybox=True, borderpad=0.2, labelspacing=0.2, handletextpad =0.1)\n",
    "\n",
    "bbox = dict(boxstyle=\"round\", fc=\"0.9\", pad=0.1)\n",
    "ax.text(5, 2, r'$r=2,\\,\\Delta d=0$', fontsize=32,\n",
    "        verticalalignment='center', horizontalalignment='center', bbox=bbox)\n",
    "\n",
    "plt.xlim(2.5,7.5)\n",
    "plt.ylim(-6,6)\n",
    "plt.tight_layout();"
   ]
  },
  {
   "cell_type": "code",
   "execution_count": 7,
   "metadata": {
    "collapsed": true
   },
   "outputs": [],
   "source": [
    "#save Fig.3B\n",
    "fig1.savefig(\"Fig3B.pdf\")"
   ]
  },
  {
   "cell_type": "code",
   "execution_count": null,
   "metadata": {
    "collapsed": true
   },
   "outputs": [],
   "source": []
  },
  {
   "cell_type": "code",
   "execution_count": null,
   "metadata": {
    "collapsed": true
   },
   "outputs": [],
   "source": []
  }
 ],
 "metadata": {
  "kernelspec": {
   "display_name": "Python 3",
   "language": "python",
   "name": "python3"
  },
  "language_info": {
   "codemirror_mode": {
    "name": "ipython",
    "version": 3
   },
   "file_extension": ".py",
   "mimetype": "text/x-python",
   "name": "python",
   "nbconvert_exporter": "python",
   "pygments_lexer": "ipython3",
   "version": "3.5.1"
  }
 },
 "nbformat": 4,
 "nbformat_minor": 0
}
